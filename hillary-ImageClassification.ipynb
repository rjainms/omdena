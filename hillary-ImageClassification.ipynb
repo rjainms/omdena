{
 "cells": [
  {
   "cell_type": "markdown",
   "metadata": {},
   "source": [
    "# Omdena  Nairobi Challenge  December 2022\n",
    "**Monitoring Change in Urban Green Areas and Tree Cover using Satellite Imagery (Nairobi County)**\n",
    "\n",
    "**This notebook was developed for the  [OmdenaAI 2022 Nairobi Challenge](https://omdena.com/chapter-challenges/monitoring-change-in-urban-green-areas-and-tree-cover/).**\n",
    "\n",
    "**Author: [Hillary Koros](https://github.com/HillaryKoros)**"
   ]
  },
  {
   "cell_type": "markdown",
   "metadata": {},
   "source": [
    "## Useful links\n",
    "- [Google Earth Engine](https://earthengine.google.com)\n",
    "- [geemap.org](https://geemap.org)\n",
    "- [Google Earth Engine and geemap Python Tutorials](https://www.youtube.com/playlist?list=PLAxJ4-o7ZoPccOFv1dCwvGI6TYnirRTg3) (55 videos with a total length of 15 hours)\n",
    "\n",
    "## Prerequisite\n",
    "- A Google Earth Engine account. Sign up [here](https://earthengine.google.com) if needed. \n",
    "- [Miniconda](https://docs.conda.io/en/latest/miniconda.html) or [Anaconda](https://www.anaconda.com/products/individual)\n",
    "\n",
    "\n",
    "## Set up a conda environment\n",
    "\n",
    "```\n",
    "conda create -n PyGIS python=3.9\n",
    "conda activate PyGIS\n",
    "conda install geemap -c conda-forge\n",
    "conda install jupyter_contrib_nbextensions -c conda-forge\n",
    "jupyter contrib nbextension install --user\n",
    "```"
   ]
  },
  {
   "cell_type": "markdown",
   "metadata": {},
   "source": [
    "# Problem  Understanding\n",
    "The main goal of this project is to develop and AI solution that will extract data from satellite imageries hosted on cloud-based platforms (e.g., the Earth Engine’s public data catalog) within a  defined city boundaries(Nairobi), generate statistics on two urban indicators related to environmental sustainability. \n",
    "These indicators are:\n",
    "\n",
    "##  Change in green Areas per Capita\n",
    "- as defined in the Global Urban Monitoring Framework (UMF-47). The methodology involves the estimation of a city area under vegetation cover for several time periods e.g., the years 2000, 2010, and 2020; the indicator has 2 key metrics: ```change in green areas over time``` and ```change in per capita green areas over time```.\n",
    "\n",
    "##  Change in Tree Cover\n",
    "- as defined in the Global Urban Monitoring Framework (UMF-48). The methodology involves estimation of the city area under tree cover for several time periods e.g., the years 2000, 2010, and 2020, and analyzing the change over time."
   ]
  },
  {
   "cell_type": "markdown",
   "metadata": {},
   "source": [
    "# Analytical Approach: \n",
    "This is a Supervised machine learning problem where we will use  The `Classifier` package which  handles supervised classification by traditional ML algorithms running in Earth Engine. These classifier we will use is RandomForest.\n",
    "\n",
    "Source: https://developers.google.com/earth-engine/classification\n",
    "\n",
    "\n",
    "**The general workflow for the project is:**\n",
    "\n",
    "1. Collect training data. Assemble features which have a property that stores the known class label and properties storing numeric values for the predictors.\n",
    "2. Instantiate a classifier. Set its parameters if necessary.\n",
    "3. Train the classifier using the training data.\n",
    "4. Classify an image or feature collection.\n",
    "5. Generate statistics and timeseries data "
   ]
  },
  {
   "cell_type": "markdown",
   "metadata": {},
   "source": [
    "# Data Requirements:\n",
    "\n",
    "We  use data would need a collection of Training data,Nairobi County Shapefiles and satellite Imagery for the area and Period under study.\n",
    "\n",
    "**The Training Data  will Have 4 class Labels**\n",
    "1. Water.\n",
    "2. Vegetation.\n",
    "3. Built-Up.\n",
    "4. BareLand.\n",
    "\n",
    "\n",
    "- Nairobi County Bounds, Kenya which I have extracted from: (https://africaopendata.org/dataset/kenya-counties-shapefile) \n",
    "- Training Data which is  created using the Drawing Tools in the gee code editor:(https://code.earthengine.google.com/)\n",
    "- Satellite imagery Landsat  and Sentinel extracted from: ( https://developers.google.com/earth-engine/datasets)"
   ]
  },
  {
   "cell_type": "code",
   "execution_count": null,
   "metadata": {},
   "outputs": [],
   "source": []
  },
  {
   "cell_type": "markdown",
   "metadata": {},
   "source": [
    "## Step-by-step tutorial\n",
    "\n",
    "### Import libraries"
   ]
  },
  {
   "cell_type": "code",
   "execution_count": 3,
   "metadata": {},
   "outputs": [],
   "source": [
    "import ee\n",
    "import geemap\n",
    "import json\n",
    "import os\n",
    "import requests\n",
    "from geemap import geojson_to_ee, ee_to_geojson\n",
    "from ipyleaflet import GeoJSON"
   ]
  },
  {
   "cell_type": "markdown",
   "metadata": {},
   "source": [
    "### Create an interactive map"
   ]
  },
  {
   "cell_type": "code",
   "execution_count": 4,
   "metadata": {},
   "outputs": [
    {
     "data": {
      "application/vnd.jupyter.widget-view+json": {
       "model_id": "f7f991741d714f92879382aa24ccd69b",
       "version_major": 2,
       "version_minor": 0
      },
      "text/plain": [
       "Map(center=[-1.300359, 36.816372], controls=(WidgetControl(options=['position', 'transparent_bg'], widget=HBox…"
      ]
     },
     "metadata": {},
     "output_type": "display_data"
    }
   ],
   "source": [
    "Map = geemap.Map(center=(-1.3003590,36.816372), zoom=10)\n",
    "Map"
   ]
  },
  {
   "cell_type": "code",
   "execution_count": 5,
   "metadata": {},
   "outputs": [
    {
     "data": {
      "application/vnd.jupyter.widget-view+json": {
       "model_id": "f7f991741d714f92879382aa24ccd69b",
       "version_major": 2,
       "version_minor": 0
      },
      "text/plain": [
       "Map(bottom=132319.0, center=[-1.300359, 36.816372], controls=(WidgetControl(options=['position', 'transparent_…"
      ]
     },
     "metadata": {},
     "output_type": "display_data"
    }
   ],
   "source": [
    "AOI_shp = './data/Nairobi.shp'\n",
    "Nai = geemap.shp_to_ee(AOI_shp)\n",
    "roi = ee.FeatureCollection(Nai)\n",
    "Map.addLayer(roi, {}, 'Nairobi',False)\n",
    "\n",
    "Map"
   ]
  },
  {
   "cell_type": "markdown",
   "metadata": {},
   "source": [
    "### Add data to the map"
   ]
  },
  {
   "cell_type": "code",
   "execution_count": 6,
   "metadata": {},
   "outputs": [
    {
     "data": {
      "application/vnd.jupyter.widget-view+json": {
       "model_id": "f7f991741d714f92879382aa24ccd69b",
       "version_major": 2,
       "version_minor": 0
      },
      "text/plain": [
       "Map(bottom=132319.0, center=[-1.300359, 36.816371999999994], controls=(WidgetControl(options=['position', 'tra…"
      ]
     },
     "metadata": {},
     "output_type": "display_data"
    },
    {
     "data": {
      "application/javascript": [
       "\n",
       "        var code = IPython.notebook.insert_cell_below('code');\n",
       "        code.set_text(atob(\"IyBDb21wdXRlIHRoZSBOb3JtYWxpemVkIERpZmZlcmVuY2UgVmVnZXRhdGlvbiBJbmRleCAoTkRWSSkuCm5pciA9IGltYWdlLnNlbGVjdCgnQjUnKQpyZWQgPSBpbWFnZS5zZWxlY3QoJ0I0JykKbmR2aSA9IG5pci5zdWJ0cmFjdChyZWQpLmRpdmlkZShuaXIuYWRkKHJlZCkpLnJlbmFtZSgnTkRWSScpCgojIERpc3BsYXkgdGhlIHJlc3VsdC4KTWFwLmNlbnRlck9iamVjdChpbWFnZSwgOSkKbmR2aVBhcmFtcyA9IHsnbWluJzogLTEsICdtYXgnOiAxLCAncGFsZXR0ZSc6IFsnYmx1ZScsICd3aGl0ZScsICdncmVlbiddfQpNYXAuYWRkTGF5ZXIobmR2aSwgbmR2aVBhcmFtcywgJ05EVkkgaW1hZ2UnKQo=\"));\n",
       "    "
      ],
      "text/plain": [
       "<IPython.core.display.Javascript object>"
      ]
     },
     "metadata": {},
     "output_type": "display_data"
    },
    {
     "data": {
      "application/javascript": [
       "\n",
       "        var code = IPython.notebook.insert_cell_below('code');\n",
       "        code.set_text(atob(\"ZGVmIGFkZE5EVkkoaW1hZ2UpOgogIG5kdmkgPSBpbWFnZS5ub3JtYWxpemVkRGlmZmVyZW5jZShbJ0I1JywgJ0I0J10pLnJlbmFtZSgnTkRWSScpCiAgcmV0dXJuIGltYWdlLmFkZEJhbmRzKG5kdmkpCgojIFRlc3QgdGhlIGFkZE5EVkkgZnVuY3Rpb24gb24gYSBzaW5nbGUgaW1hZ2UuCm5kdmkgPSBhZGRORFZJKGltYWdlKS5zZWxlY3QoJ05EVkknKQo=\"));\n",
       "    "
      ],
      "text/plain": [
       "<IPython.core.display.Javascript object>"
      ]
     },
     "metadata": {},
     "output_type": "display_data"
    }
   ],
   "source": [
    "point = ee.Geometry.Point([36.816372,-1.3003590])\n",
    "\n",
    "image = (\n",
    "    ee.ImageCollection('LANDSAT/LC08/C01/T1_SR')\n",
    "    .filterBounds(point)\n",
    "    .filterDate('2020-01-01', '2020-12-31')\n",
    "    .sort('CLOUD_COVER')\n",
    "    .first()\n",
    "    .select('B[1-7]')\n",
    "    .clip(roi)\n",
    ")\n",
    "\n",
    "vis_params = {'min': 0, 'max': 3000, 'bands': ['B4', 'B3', 'B2']}\n",
    "\n",
    "Map.centerObject(point, 8)\n",
    "Map.addLayer(image, vis_params, \"Landsat-8\")\n",
    "Map"
   ]
  },
  {
   "cell_type": "code",
   "execution_count": 21,
   "metadata": {},
   "outputs": [
    {
     "data": {
      "application/vnd.jupyter.widget-view+json": {
       "model_id": "f7f991741d714f92879382aa24ccd69b",
       "version_major": 2,
       "version_minor": 0
      },
      "text/plain": [
       "Map(bottom=264196.0, center=[-1.2029145493452746, 36.73862457275391], controls=(WidgetControl(options=['positi…"
      ]
     },
     "metadata": {},
     "output_type": "display_data"
    }
   ],
   "source": [
    "ndvi = image.normalizedDifference(['B5', 'B4']).rename('NDVI')\n",
    "#image.addBands(ndvi)\n",
    "withNDVI= image.addBands(ndvi)\n",
    "ndviParams = {'min': -1, 'max': 1, 'palette': ['blue', 'white', 'green']}\n",
    "Map.addLayer(ndvi, ndviParams, 'NDVI image')\n",
    "Map"
   ]
  },
  {
   "cell_type": "markdown",
   "metadata": {},
   "source": [
    "### Check image properties"
   ]
  },
  {
   "cell_type": "code",
   "execution_count": 22,
   "metadata": {},
   "outputs": [
    {
     "data": {
      "text/plain": [
       "'2020-02-20'"
      ]
     },
     "execution_count": 22,
     "metadata": {},
     "output_type": "execute_result"
    }
   ],
   "source": [
    "ee.Date(image.get('system:time_start')).format('YYYY-MM-dd').getInfo()"
   ]
  },
  {
   "cell_type": "code",
   "execution_count": 23,
   "metadata": {},
   "outputs": [
    {
     "data": {
      "text/plain": [
       "1.3"
      ]
     },
     "execution_count": 23,
     "metadata": {},
     "output_type": "execute_result"
    }
   ],
   "source": [
    "image.get('CLOUD_COVER').getInfo()"
   ]
  },
  {
   "cell_type": "code",
   "execution_count": 35,
   "metadata": {},
   "outputs": [
    {
     "data": {
      "text/plain": [
       "['B1', 'B2', 'B3', 'B4', 'B5', 'B6', 'B7', 'NDVI']"
      ]
     },
     "execution_count": 35,
     "metadata": {},
     "output_type": "execute_result"
    }
   ],
   "source": [
    "withNDVI.get('system:band_names').getInfo()"
   ]
  },
  {
   "cell_type": "code",
   "execution_count": 25,
   "metadata": {},
   "outputs": [
    {
     "data": {
      "application/vnd.jupyter.widget-view+json": {
       "model_id": "f7f991741d714f92879382aa24ccd69b",
       "version_major": 2,
       "version_minor": 0
      },
      "text/plain": [
       "Map(bottom=264196.0, center=[-1.2029145493452746, 36.73862457275391], controls=(WidgetControl(options=['positi…"
      ]
     },
     "metadata": {},
     "output_type": "display_data"
    }
   ],
   "source": [
    "file_path = os.path.abspath('file.geojson')\n",
    "with open(file_path) as f:\n",
    "    json_data = json.load(f)\n",
    "    \n",
    "\n",
    "ee_data = geojson_to_ee(json_data)\n",
    "Map.addLayer(ee_data, {}, \"Training\",False)\n",
    "Map"
   ]
  },
  {
   "cell_type": "code",
   "execution_count": 26,
   "metadata": {},
   "outputs": [
    {
     "name": "stdout",
     "output_type": "stream",
     "text": [
      "192\n"
     ]
    }
   ],
   "source": [
    "print(ee_data.size().getInfo())"
   ]
  },
  {
   "cell_type": "code",
   "execution_count": 27,
   "metadata": {},
   "outputs": [
    {
     "name": "stdout",
     "output_type": "stream",
     "text": [
      "{'type': 'Feature', 'geometry': {'geodesic': False, 'type': 'Polygon', 'coordinates': [[[36.84045664162497, -1.310484563835185], [36.85255876870016, -1.310484563835185], [36.85255876870016, -1.3007024055691276], [36.84045664162497, -1.3007024055691276], [36.84045664162497, -1.310484563835185]]]}, 'id': '1_1_1_0', 'properties': {'LC': 2}}\n"
     ]
    }
   ],
   "source": [
    "print(ee_data.first().getInfo())"
   ]
  },
  {
   "cell_type": "markdown",
   "metadata": {},
   "source": [
    "### Train the classifier"
   ]
  },
  {
   "cell_type": "code",
   "execution_count": 36,
   "metadata": {},
   "outputs": [],
   "source": [
    "# Use these bands for prediction.\n",
    "bands = ['B2', 'B3', 'B4', 'B5', 'B6', 'B7','NDVI']\n",
    "\n",
    "\n",
    "# This property of the table stores the land cover labels.\n",
    "label = 'LC'\n",
    "\n",
    "# Overlay the points on the imagery to get training.\n",
    "trainingD = withNDVI.select(bands).sampleRegions(\n",
    "    **{'collection': ee_data, 'properties': [label], 'scale': 10}\n",
    ")\n",
    "\n",
    "#split into training and validation\n",
    "# Adds a column of deterministic pseudorandom numbers.\n",
    "sample = trainingD.randomColumn()\n",
    "\n",
    "split = 0.7\n",
    "\n",
    "training = sample.filter(ee.Filter.lt('random', split))\n",
    "validation = sample.filter(ee.Filter.gte('random', split))\n",
    "\n",
    "# print(training.first().getInfo())\n",
    "\n",
    "# print(validation.first().getInfo())\n",
    "# Train a RandomForest classifier with 50 trees default parameters.\n",
    "trained = ee.Classifier.smileRandomForest(50).train(training, label, bands)"
   ]
  },
  {
   "cell_type": "code",
   "execution_count": 37,
   "metadata": {},
   "outputs": [
    {
     "name": "stdout",
     "output_type": "stream",
     "text": [
      "{'type': 'Feature', 'geometry': None, 'id': '1_1_1_0_0', 'properties': {'B2': 910, 'B3': 1112, 'B4': 1279, 'B5': 1879, 'B6': 2629, 'B7': 2475, 'LC': 2, 'NDVI': 0.18999366462230682, 'random': 0.878334566787231}}\n"
     ]
    }
   ],
   "source": [
    "# print(training.first().getInfo())\n",
    "print(validation.first().getInfo())"
   ]
  },
  {
   "cell_type": "markdown",
   "metadata": {},
   "source": [
    "### Classify the image"
   ]
  },
  {
   "cell_type": "code",
   "execution_count": 38,
   "metadata": {},
   "outputs": [
    {
     "data": {
      "application/vnd.jupyter.widget-view+json": {
       "model_id": "f7f991741d714f92879382aa24ccd69b",
       "version_major": 2,
       "version_minor": 0
      },
      "text/plain": [
       "Map(bottom=264196.0, center=[-1.2029145493452746, 36.73862457275391], controls=(WidgetControl(options=['positi…"
      ]
     },
     "metadata": {},
     "output_type": "display_data"
    },
    {
     "data": {
      "application/javascript": [
       "\n",
       "        var code = IPython.notebook.insert_cell_below('code');\n",
       "        code.set_text(atob(\"IyBBcmVhIENhbGN1bGF0aW9uIGZvciBJbWFnZXMKdmVnZXRhdGlvbiA9IGNsYXNzaWZpZWQuZXEoMSkKTWFwLmFkZExheWVyKHZlZ2V0YXRpb24sIHsnbWluJzowLCAnbWF4JzoxLCAncGFsZXR0ZSc6IFsnd2hpdGUnLCAnZ3JlZW4nXX0sICdHcmVlbiBDb3ZlcicpCg==\"));\n",
       "    "
      ],
      "text/plain": [
       "<IPython.core.display.Javascript object>"
      ]
     },
     "metadata": {},
     "output_type": "display_data"
    }
   ],
   "source": [
    "# Classify the image with the same bands used for training.\n",
    "result = withNDVI.select(bands).classify(trained)\n",
    "\n",
    "# # Display the clusters with random colors.\n",
    "Map.addLayer(result.randomVisualizer(), {}, 'classified')\n",
    "Map"
   ]
  },
  {
   "cell_type": "code",
   "execution_count": 50,
   "metadata": {},
   "outputs": [
    {
     "data": {
      "application/vnd.jupyter.widget-view+json": {
       "model_id": "f7f991741d714f92879382aa24ccd69b",
       "version_major": 2,
       "version_minor": 0
      },
      "text/plain": [
       "Map(bottom=132491.0, center=[-1.5365284406473707, 37.067184448242195], controls=(WidgetControl(options=['posit…"
      ]
     },
     "metadata": {},
     "output_type": "display_data"
    }
   ],
   "source": [
    "# Area Calculation for Images\n",
    "vegetation = result.eq(1)\n",
    "Map.addLayer(vegetation, {'min':0, 'max':1, 'palette': ['white', 'green']}, 'Green Cover')\n",
    "Map"
   ]
  },
  {
   "cell_type": "code",
   "execution_count": 59,
   "metadata": {},
   "outputs": [],
   "source": [
    "out_dir = os.path.join(os.path.expanduser('~'), 'Downloads')\n",
    "filename = os.path.join(out_dir, '2020NDVI.tif')"
   ]
  },
  {
   "cell_type": "code",
   "execution_count": 61,
   "metadata": {},
   "outputs": [
    {
     "name": "stdout",
     "output_type": "stream",
     "text": [
      "Generating URL ...\n",
      "Downloading data from https://earthengine.googleapis.com/v1alpha/projects/earthengine-legacy/thumbnails/f3ee1ea95df384ce1d37c2e580877fab-8323d553c705282635caf80339589c99:getPixels\n",
      "Please wait ...\n",
      "Data downloaded to C:\\Users\\Koros\\Downloads\\2020NDVI.tif\n"
     ]
    }
   ],
   "source": [
    "NDVI_image =withNDVI.select('NDVI') # select the 5th image in a collection\n",
    "geemap.ee_export_image(\n",
    "    NDVI_image, filename=filename, scale=30, region=roi.geometry())"
   ]
  },
  {
   "cell_type": "code",
   "execution_count": null,
   "metadata": {},
   "outputs": [],
   "source": []
  }
 ],
 "metadata": {
  "hide_input": false,
  "kernelspec": {
   "display_name": "Python 3 (ipykernel)",
   "language": "python",
   "name": "python3"
  },
  "language_info": {
   "codemirror_mode": {
    "name": "ipython",
    "version": 3
   },
   "file_extension": ".py",
   "mimetype": "text/x-python",
   "name": "python",
   "nbconvert_exporter": "python",
   "pygments_lexer": "ipython3",
   "version": "3.9.15"
  },
  "toc": {
   "base_numbering": 1,
   "nav_menu": {},
   "number_sections": true,
   "sideBar": true,
   "skip_h1_title": true,
   "title_cell": "Table of Contents",
   "title_sidebar": "Table of Contents",
   "toc_cell": false,
   "toc_position": {
    "height": "calc(100% - 180px)",
    "left": "10px",
    "top": "150px",
    "width": "384px"
   },
   "toc_section_display": true,
   "toc_window_display": true
  },
  "varInspector": {
   "cols": {
    "lenName": 16,
    "lenType": 16,
    "lenVar": 40
   },
   "kernels_config": {
    "python": {
     "delete_cmd_postfix": "",
     "delete_cmd_prefix": "del ",
     "library": "var_list.py",
     "varRefreshCmd": "print(var_dic_list())"
    },
    "r": {
     "delete_cmd_postfix": ") ",
     "delete_cmd_prefix": "rm(",
     "library": "var_list.r",
     "varRefreshCmd": "cat(var_dic_list()) "
    }
   },
   "types_to_exclude": [
    "module",
    "function",
    "builtin_function_or_method",
    "instance",
    "_Feature"
   ],
   "window_display": false
  }
 },
 "nbformat": 4,
 "nbformat_minor": 4
}
